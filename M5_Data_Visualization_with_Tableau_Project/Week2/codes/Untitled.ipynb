{
 "cells": [
  {
   "cell_type": "code",
   "execution_count": 1,
   "id": "classical-brother",
   "metadata": {},
   "outputs": [],
   "source": [
    "import sqlite3\n",
    "from sqlite3 import Error\n",
    "import pandas as pd"
   ]
  },
  {
   "cell_type": "code",
   "execution_count": 2,
   "id": "monthly-charles",
   "metadata": {},
   "outputs": [],
   "source": [
    "conn = sqlite3.connect('/Users/c.marcoa.roblesg./Downloads/COVID-19_Reported_Cases.db')\n",
    "data = pd.read_sql_query('select * from reported_covid;',conn)"
   ]
  },
  {
   "cell_type": "code",
   "execution_count": null,
   "id": "disturbed-guide",
   "metadata": {},
   "outputs": [],
   "source": [
    "data"
   ]
  },
  {
   "cell_type": "code",
   "execution_count": null,
   "id": "economic-gossip",
   "metadata": {},
   "outputs": [],
   "source": []
  }
 ],
 "metadata": {
  "kernelspec": {
   "display_name": "Python 3",
   "language": "python",
   "name": "python3"
  },
  "language_info": {
   "codemirror_mode": {
    "name": "ipython",
    "version": 3
   },
   "file_extension": ".py",
   "mimetype": "text/x-python",
   "name": "python",
   "nbconvert_exporter": "python",
   "pygments_lexer": "ipython3",
   "version": "3.8.5"
  }
 },
 "nbformat": 4,
 "nbformat_minor": 5
}
