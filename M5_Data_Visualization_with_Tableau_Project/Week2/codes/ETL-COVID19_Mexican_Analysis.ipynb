{
 "cells": [
  {
   "cell_type": "markdown",
   "id": "2ede1d41",
   "metadata": {},
   "source": [
    "# COVID-19 Mexican Analysis"
   ]
  },
  {
   "cell_type": "markdown",
   "id": "0329f3f9",
   "metadata": {},
   "source": [
    "### Needed libraries\n",
    "**Note:** Run this part only if you don't have the libraries."
   ]
  },
  {
   "cell_type": "code",
   "execution_count": 2,
   "id": "5cf8800f",
   "metadata": {},
   "outputs": [
    {
     "name": "stdout",
     "output_type": "stream",
     "text": [
      "Requirement already satisfied: pip in /Users/c.marcoa.roblesg./Documents/Projects/Virtual_Environments/virtual/lib/python3.8/site-packages (21.1)\n",
      "Requirement already satisfied: setuptools in /Users/c.marcoa.roblesg./Documents/Projects/Virtual_Environments/virtual/lib/python3.8/site-packages (56.0.0)\n",
      "Requirement already satisfied: numpy in /Users/c.marcoa.roblesg./Documents/Projects/Virtual_Environments/virtual/lib/python3.8/site-packages (1.20.2)\n",
      "Requirement already satisfied: pandas in /Users/c.marcoa.roblesg./Documents/Projects/Virtual_Environments/virtual/lib/python3.8/site-packages (1.2.4)\n",
      "Requirement already satisfied: numpy in /Users/c.marcoa.roblesg./Documents/Projects/Virtual_Environments/virtual/lib/python3.8/site-packages (1.20.2)\n",
      "Requirement already satisfied: zipfile37 in /Users/c.marcoa.roblesg./Documents/Projects/Virtual_Environments/virtual/lib/python3.8/site-packages (0.1.3)\n",
      "Requirement already satisfied: xlrd in /Users/c.marcoa.roblesg./Documents/Projects/Virtual_Environments/virtual/lib/python3.8/site-packages (2.0.1)\n",
      "Requirement already satisfied: openpyxl in /Users/c.marcoa.roblesg./Documents/Projects/Virtual_Environments/virtual/lib/python3.8/site-packages (3.0.7)\n",
      "Requirement already satisfied: wget in /Users/c.marcoa.roblesg./Documents/Projects/Virtual_Environments/virtual/lib/python3.8/site-packages (3.2)\n",
      "Requirement already satisfied: python-dateutil>=2.7.3 in /Users/c.marcoa.roblesg./Documents/Projects/Virtual_Environments/virtual/lib/python3.8/site-packages (from pandas) (2.8.1)\n",
      "Requirement already satisfied: pytz>=2017.3 in /Users/c.marcoa.roblesg./Documents/Projects/Virtual_Environments/virtual/lib/python3.8/site-packages (from pandas) (2021.1)\n",
      "Requirement already satisfied: six>=1.5 in /Users/c.marcoa.roblesg./Documents/Projects/Virtual_Environments/virtual/lib/python3.8/site-packages (from python-dateutil>=2.7.3->pandas) (1.15.0)\n",
      "Requirement already satisfied: et-xmlfile in /Users/c.marcoa.roblesg./Documents/Projects/Virtual_Environments/virtual/lib/python3.8/site-packages (from openpyxl) (1.1.0)\n"
     ]
    }
   ],
   "source": [
    "!pip3 install --upgrade pip setuptools numpy\n",
    "!pip3 install pandas numpy zipfile37 xlrd openpyxl wget"
   ]
  },
  {
   "cell_type": "markdown",
   "id": "132b981b",
   "metadata": {},
   "source": [
    "### Importing the libraries"
   ]
  },
  {
   "cell_type": "code",
   "execution_count": 3,
   "id": "adaa0325",
   "metadata": {},
   "outputs": [],
   "source": [
    "import pandas as pd\n",
    "import zipfile\n",
    "import json\n",
    "import glob\n",
    "import wget\n",
    "import os\n",
    "import re"
   ]
  },
  {
   "cell_type": "code",
   "execution_count": 4,
   "id": "cd08a8c8",
   "metadata": {},
   "outputs": [],
   "source": [
    "with open(r'./configuration.json','r') as myFile:\n",
    "    data = myFile.read()\n",
    "info = json.loads(data)\n",
    "myFile.close()"
   ]
  },
  {
   "cell_type": "markdown",
   "id": "3845ceb4",
   "metadata": {},
   "source": [
    "#### This function verifies the existance of the files in the folder"
   ]
  },
  {
   "cell_type": "code",
   "execution_count": 5,
   "id": "0487c6fe",
   "metadata": {},
   "outputs": [],
   "source": [
    "def checkFiles(fileName,files):\n",
    "    flag = 0\n",
    "    for file in files:\n",
    "        if not re.search(fileName,file) == None:\n",
    "            flag = 1\n",
    "        else:\n",
    "            flag = 0\n",
    "    return flag, fileName"
   ]
  },
  {
   "cell_type": "markdown",
   "id": "2a1465f4",
   "metadata": {},
   "source": [
    "**If the Database doens't exist, then it download from the source**\\\n",
    "The following code downloads the latest dataset from the openacess database, this file is updated daily."
   ]
  },
  {
   "cell_type": "code",
   "execution_count": 6,
   "id": "e0d38e24",
   "metadata": {},
   "outputs": [],
   "source": [
    "path = info.get('paths').get('Databases')\n",
    "dataset = info.get('paths').get('dataset_url')\n",
    "dictionary = info.get('paths').get('dictionary_url')\n",
    "files = glob.glob(os.path.join(path,'*'))\n",
    "\n",
    "[flag,fileName] = checkFiles(info.get('files').get('dataset_zip'),files)\n",
    "if flag == 1:\n",
    "    os.system('rm -r '+os.path.join(path,fileName))\n",
    "    wget.download(dataset,path)\n",
    "else:\n",
    "    wget.download(dataset,path)\n",
    "\n",
    "[flag,fileName] = checkFiles(info.get('files').get('dictionary_zip'),files)\n",
    "if flag == 1:\n",
    "    os.system('rm -r '+os.path.join(path,fileName))\n",
    "    wget.download(dictionary,path)\n",
    "else:\n",
    "    wget.download(dictionary,path)\n",
    "\n",
    "[flag,fileName] = checkFiles(info.get('files').get('open_data'),files)\n",
    "if flag == 1:\n",
    "    os.system('rm -r '+os.path.join(path,fileName))\n",
    "[flag,fileName] = checkFiles(info.get('files').get('dictionary'),files)\n",
    "if flag == 1:\n",
    "    os.system('rm -r '+os.path.join(path,fileName))"
   ]
  },
  {
   "cell_type": "markdown",
   "id": "e9b8ac85",
   "metadata": {},
   "source": [
    "**Extracting the information**\\\n",
    "Unzipping the downloaded files to be used and processed."
   ]
  },
  {
   "cell_type": "code",
   "execution_count": 7,
   "id": "dd19c567",
   "metadata": {},
   "outputs": [],
   "source": [
    "import zipfile\n",
    "files = glob.glob(os.path.join(path,'*.zip'))\n",
    "for file in files:\n",
    "    if file == os.path.join(path,info.get('files').get('dictionary_zip')):\n",
    "        with zipfile.ZipFile(file,\"r\") as zip_ref:\n",
    "            zip_ref.extractall(os.path.join(path,dictionary.split('/')[len(dictionary.split('/'))-1].split('.')[0],'.'))\n",
    "    else:\n",
    "        with zipfile.ZipFile(file,\"r\") as zip_ref:\n",
    "            zip_ref.extractall(os.path.join(path,'.'))"
   ]
  },
  {
   "cell_type": "markdown",
   "id": "6f56bacd",
   "metadata": {},
   "source": [
    "**Printing all the files**\\\n",
    "The function locates and print all the CSV files"
   ]
  },
  {
   "cell_type": "code",
   "execution_count": 8,
   "id": "25a62c99",
   "metadata": {},
   "outputs": [],
   "source": [
    "def printFiles(files):\n",
    "    counter = 0\n",
    "    for file in files:\n",
    "        print('['+str(counter)+']: ',file.split('/')[len(file.split('/'))-1])\n",
    "        counter = counter + 1"
   ]
  },
  {
   "cell_type": "code",
   "execution_count": 9,
   "id": "253be1b3",
   "metadata": {},
   "outputs": [
    {
     "name": "stdout",
     "output_type": "stream",
     "text": [
      "[0]:  210429COVID19MEXICO.csv\n"
     ]
    },
    {
     "data": {
      "text/html": [
       "<div>\n",
       "<style scoped>\n",
       "    .dataframe tbody tr th:only-of-type {\n",
       "        vertical-align: middle;\n",
       "    }\n",
       "\n",
       "    .dataframe tbody tr th {\n",
       "        vertical-align: top;\n",
       "    }\n",
       "\n",
       "    .dataframe thead th {\n",
       "        text-align: right;\n",
       "    }\n",
       "</style>\n",
       "<table border=\"1\" class=\"dataframe\">\n",
       "  <thead>\n",
       "    <tr style=\"text-align: right;\">\n",
       "      <th></th>\n",
       "      <th>FECHA_ACTUALIZACION</th>\n",
       "      <th>ID_REGISTRO</th>\n",
       "      <th>ORIGEN</th>\n",
       "      <th>SECTOR</th>\n",
       "      <th>ENTIDAD_UM</th>\n",
       "      <th>SEXO</th>\n",
       "      <th>ENTIDAD_NAC</th>\n",
       "      <th>ENTIDAD_RES</th>\n",
       "      <th>MUNICIPIO_RES</th>\n",
       "      <th>TIPO_PACIENTE</th>\n",
       "      <th>...</th>\n",
       "      <th>OTRO_CASO</th>\n",
       "      <th>TOMA_MUESTRA_LAB</th>\n",
       "      <th>RESULTADO_LAB</th>\n",
       "      <th>TOMA_MUESTRA_ANTIGENO</th>\n",
       "      <th>RESULTADO_ANTIGENO</th>\n",
       "      <th>CLASIFICACION_FINAL</th>\n",
       "      <th>MIGRANTE</th>\n",
       "      <th>PAIS_NACIONALIDAD</th>\n",
       "      <th>PAIS_ORIGEN</th>\n",
       "      <th>UCI</th>\n",
       "    </tr>\n",
       "  </thead>\n",
       "  <tbody>\n",
       "    <tr>\n",
       "      <th>0</th>\n",
       "      <td>2021-04-29</td>\n",
       "      <td>z482b8</td>\n",
       "      <td>1</td>\n",
       "      <td>12</td>\n",
       "      <td>9</td>\n",
       "      <td>2</td>\n",
       "      <td>9</td>\n",
       "      <td>9</td>\n",
       "      <td>12</td>\n",
       "      <td>1</td>\n",
       "      <td>...</td>\n",
       "      <td>2</td>\n",
       "      <td>2</td>\n",
       "      <td>97</td>\n",
       "      <td>2</td>\n",
       "      <td>97</td>\n",
       "      <td>1</td>\n",
       "      <td>99</td>\n",
       "      <td>México</td>\n",
       "      <td>97</td>\n",
       "      <td>97</td>\n",
       "    </tr>\n",
       "    <tr>\n",
       "      <th>1</th>\n",
       "      <td>2021-04-29</td>\n",
       "      <td>z49a69</td>\n",
       "      <td>1</td>\n",
       "      <td>12</td>\n",
       "      <td>23</td>\n",
       "      <td>1</td>\n",
       "      <td>23</td>\n",
       "      <td>23</td>\n",
       "      <td>4</td>\n",
       "      <td>2</td>\n",
       "      <td>...</td>\n",
       "      <td>1</td>\n",
       "      <td>2</td>\n",
       "      <td>97</td>\n",
       "      <td>2</td>\n",
       "      <td>97</td>\n",
       "      <td>2</td>\n",
       "      <td>99</td>\n",
       "      <td>México</td>\n",
       "      <td>97</td>\n",
       "      <td>1</td>\n",
       "    </tr>\n",
       "    <tr>\n",
       "      <th>2</th>\n",
       "      <td>2021-04-29</td>\n",
       "      <td>z23d9d</td>\n",
       "      <td>1</td>\n",
       "      <td>12</td>\n",
       "      <td>22</td>\n",
       "      <td>2</td>\n",
       "      <td>24</td>\n",
       "      <td>22</td>\n",
       "      <td>9</td>\n",
       "      <td>1</td>\n",
       "      <td>...</td>\n",
       "      <td>2</td>\n",
       "      <td>2</td>\n",
       "      <td>97</td>\n",
       "      <td>2</td>\n",
       "      <td>97</td>\n",
       "      <td>6</td>\n",
       "      <td>99</td>\n",
       "      <td>México</td>\n",
       "      <td>97</td>\n",
       "      <td>97</td>\n",
       "    </tr>\n",
       "    <tr>\n",
       "      <th>3</th>\n",
       "      <td>2021-04-29</td>\n",
       "      <td>z24953</td>\n",
       "      <td>1</td>\n",
       "      <td>12</td>\n",
       "      <td>9</td>\n",
       "      <td>1</td>\n",
       "      <td>9</td>\n",
       "      <td>9</td>\n",
       "      <td>10</td>\n",
       "      <td>1</td>\n",
       "      <td>...</td>\n",
       "      <td>1</td>\n",
       "      <td>1</td>\n",
       "      <td>2</td>\n",
       "      <td>2</td>\n",
       "      <td>97</td>\n",
       "      <td>7</td>\n",
       "      <td>99</td>\n",
       "      <td>México</td>\n",
       "      <td>97</td>\n",
       "      <td>97</td>\n",
       "    </tr>\n",
       "    <tr>\n",
       "      <th>4</th>\n",
       "      <td>2021-04-29</td>\n",
       "      <td>zz8e77</td>\n",
       "      <td>1</td>\n",
       "      <td>12</td>\n",
       "      <td>9</td>\n",
       "      <td>2</td>\n",
       "      <td>9</td>\n",
       "      <td>9</td>\n",
       "      <td>2</td>\n",
       "      <td>1</td>\n",
       "      <td>...</td>\n",
       "      <td>2</td>\n",
       "      <td>2</td>\n",
       "      <td>97</td>\n",
       "      <td>2</td>\n",
       "      <td>97</td>\n",
       "      <td>6</td>\n",
       "      <td>99</td>\n",
       "      <td>México</td>\n",
       "      <td>97</td>\n",
       "      <td>97</td>\n",
       "    </tr>\n",
       "  </tbody>\n",
       "</table>\n",
       "<p>5 rows × 40 columns</p>\n",
       "</div>"
      ],
      "text/plain": [
       "  FECHA_ACTUALIZACION ID_REGISTRO  ORIGEN  SECTOR  ENTIDAD_UM  SEXO  \\\n",
       "0          2021-04-29      z482b8       1      12           9     2   \n",
       "1          2021-04-29      z49a69       1      12          23     1   \n",
       "2          2021-04-29      z23d9d       1      12          22     2   \n",
       "3          2021-04-29      z24953       1      12           9     1   \n",
       "4          2021-04-29      zz8e77       1      12           9     2   \n",
       "\n",
       "   ENTIDAD_NAC  ENTIDAD_RES  MUNICIPIO_RES  TIPO_PACIENTE  ... OTRO_CASO  \\\n",
       "0            9            9             12              1  ...         2   \n",
       "1           23           23              4              2  ...         1   \n",
       "2           24           22              9              1  ...         2   \n",
       "3            9            9             10              1  ...         1   \n",
       "4            9            9              2              1  ...         2   \n",
       "\n",
       "  TOMA_MUESTRA_LAB RESULTADO_LAB  TOMA_MUESTRA_ANTIGENO  RESULTADO_ANTIGENO  \\\n",
       "0                2            97                      2                  97   \n",
       "1                2            97                      2                  97   \n",
       "2                2            97                      2                  97   \n",
       "3                1             2                      2                  97   \n",
       "4                2            97                      2                  97   \n",
       "\n",
       "   CLASIFICACION_FINAL  MIGRANTE  PAIS_NACIONALIDAD  PAIS_ORIGEN  UCI  \n",
       "0                    1        99             México           97   97  \n",
       "1                    2        99             México           97    1  \n",
       "2                    6        99             México           97   97  \n",
       "3                    7        99             México           97   97  \n",
       "4                    6        99             México           97   97  \n",
       "\n",
       "[5 rows x 40 columns]"
      ]
     },
     "execution_count": 9,
     "metadata": {},
     "output_type": "execute_result"
    }
   ],
   "source": [
    "files = glob.glob(os.path.join(path,'*.csv'))\n",
    "printFiles(files)\n",
    "db = pd.read_csv(files[0])\n",
    "db.head()"
   ]
  },
  {
   "cell_type": "code",
   "execution_count": 10,
   "id": "8d75cc33",
   "metadata": {},
   "outputs": [
    {
     "name": "stdout",
     "output_type": "stream",
     "text": [
      "<class 'pandas.core.frame.DataFrame'>\n",
      "RangeIndex: 6612450 entries, 0 to 6612449\n",
      "Data columns (total 40 columns):\n",
      " #   Column                 Dtype \n",
      "---  ------                 ----- \n",
      " 0   FECHA_ACTUALIZACION    object\n",
      " 1   ID_REGISTRO            object\n",
      " 2   ORIGEN                 int64 \n",
      " 3   SECTOR                 int64 \n",
      " 4   ENTIDAD_UM             int64 \n",
      " 5   SEXO                   int64 \n",
      " 6   ENTIDAD_NAC            int64 \n",
      " 7   ENTIDAD_RES            int64 \n",
      " 8   MUNICIPIO_RES          int64 \n",
      " 9   TIPO_PACIENTE          int64 \n",
      " 10  FECHA_INGRESO          object\n",
      " 11  FECHA_SINTOMAS         object\n",
      " 12  FECHA_DEF              object\n",
      " 13  INTUBADO               int64 \n",
      " 14  NEUMONIA               int64 \n",
      " 15  EDAD                   int64 \n",
      " 16  NACIONALIDAD           int64 \n",
      " 17  EMBARAZO               int64 \n",
      " 18  HABLA_LENGUA_INDIG     int64 \n",
      " 19  INDIGENA               int64 \n",
      " 20  DIABETES               int64 \n",
      " 21  EPOC                   int64 \n",
      " 22  ASMA                   int64 \n",
      " 23  INMUSUPR               int64 \n",
      " 24  HIPERTENSION           int64 \n",
      " 25  OTRA_COM               int64 \n",
      " 26  CARDIOVASCULAR         int64 \n",
      " 27  OBESIDAD               int64 \n",
      " 28  RENAL_CRONICA          int64 \n",
      " 29  TABAQUISMO             int64 \n",
      " 30  OTRO_CASO              int64 \n",
      " 31  TOMA_MUESTRA_LAB       int64 \n",
      " 32  RESULTADO_LAB          int64 \n",
      " 33  TOMA_MUESTRA_ANTIGENO  int64 \n",
      " 34  RESULTADO_ANTIGENO     int64 \n",
      " 35  CLASIFICACION_FINAL    int64 \n",
      " 36  MIGRANTE               int64 \n",
      " 37  PAIS_NACIONALIDAD      object\n",
      " 38  PAIS_ORIGEN            object\n",
      " 39  UCI                    int64 \n",
      "dtypes: int64(33), object(7)\n",
      "memory usage: 2.0+ GB\n"
     ]
    }
   ],
   "source": [
    "db.info()"
   ]
  },
  {
   "cell_type": "markdown",
   "id": "e27eff13",
   "metadata": {},
   "source": [
    "## Transforming the data\n",
    "The database are very large and it increases daily. However, the confirm cases are used for this analysis. In this database, the confirm cases also have other relations such as smoking, pneumonia, COPD, asthma, hyperthension, diabetes, among other complications. In this case, we are going to extract only the confirma cases by means of a laboratory analysis."
   ]
  },
  {
   "cell_type": "code",
   "execution_count": 11,
   "id": "b53818a1",
   "metadata": {},
   "outputs": [
    {
     "name": "stdout",
     "output_type": "stream",
     "text": [
      "Total registers: 6,612,450\n"
     ]
    },
    {
     "data": {
      "text/html": [
       "<div>\n",
       "<style scoped>\n",
       "    .dataframe tbody tr th:only-of-type {\n",
       "        vertical-align: middle;\n",
       "    }\n",
       "\n",
       "    .dataframe tbody tr th {\n",
       "        vertical-align: top;\n",
       "    }\n",
       "\n",
       "    .dataframe thead th {\n",
       "        text-align: right;\n",
       "    }\n",
       "</style>\n",
       "<table border=\"1\" class=\"dataframe\">\n",
       "  <thead>\n",
       "    <tr style=\"text-align: right;\">\n",
       "      <th></th>\n",
       "      <th>FECHA_ACTUALIZACION</th>\n",
       "      <th>ID_REGISTRO</th>\n",
       "      <th>ORIGEN</th>\n",
       "      <th>SECTOR</th>\n",
       "      <th>ENTIDAD_UM</th>\n",
       "      <th>SEXO</th>\n",
       "      <th>ENTIDAD_NAC</th>\n",
       "      <th>ENTIDAD_RES</th>\n",
       "      <th>MUNICIPIO_RES</th>\n",
       "      <th>TIPO_PACIENTE</th>\n",
       "      <th>...</th>\n",
       "      <th>OTRO_CASO</th>\n",
       "      <th>TOMA_MUESTRA_LAB</th>\n",
       "      <th>RESULTADO_LAB</th>\n",
       "      <th>TOMA_MUESTRA_ANTIGENO</th>\n",
       "      <th>RESULTADO_ANTIGENO</th>\n",
       "      <th>CLASIFICACION_FINAL</th>\n",
       "      <th>MIGRANTE</th>\n",
       "      <th>PAIS_NACIONALIDAD</th>\n",
       "      <th>PAIS_ORIGEN</th>\n",
       "      <th>UCI</th>\n",
       "    </tr>\n",
       "  </thead>\n",
       "  <tbody>\n",
       "    <tr>\n",
       "      <th>0</th>\n",
       "      <td>2021-04-29</td>\n",
       "      <td>z482b8</td>\n",
       "      <td>1</td>\n",
       "      <td>12</td>\n",
       "      <td>9</td>\n",
       "      <td>2</td>\n",
       "      <td>9</td>\n",
       "      <td>9</td>\n",
       "      <td>12</td>\n",
       "      <td>1</td>\n",
       "      <td>...</td>\n",
       "      <td>2</td>\n",
       "      <td>2</td>\n",
       "      <td>97</td>\n",
       "      <td>2</td>\n",
       "      <td>97</td>\n",
       "      <td>1</td>\n",
       "      <td>99</td>\n",
       "      <td>México</td>\n",
       "      <td>97</td>\n",
       "      <td>97</td>\n",
       "    </tr>\n",
       "    <tr>\n",
       "      <th>1</th>\n",
       "      <td>2021-04-29</td>\n",
       "      <td>z49a69</td>\n",
       "      <td>1</td>\n",
       "      <td>12</td>\n",
       "      <td>23</td>\n",
       "      <td>1</td>\n",
       "      <td>23</td>\n",
       "      <td>23</td>\n",
       "      <td>4</td>\n",
       "      <td>2</td>\n",
       "      <td>...</td>\n",
       "      <td>1</td>\n",
       "      <td>2</td>\n",
       "      <td>97</td>\n",
       "      <td>2</td>\n",
       "      <td>97</td>\n",
       "      <td>2</td>\n",
       "      <td>99</td>\n",
       "      <td>México</td>\n",
       "      <td>97</td>\n",
       "      <td>1</td>\n",
       "    </tr>\n",
       "    <tr>\n",
       "      <th>2</th>\n",
       "      <td>2021-04-29</td>\n",
       "      <td>z23d9d</td>\n",
       "      <td>1</td>\n",
       "      <td>12</td>\n",
       "      <td>22</td>\n",
       "      <td>2</td>\n",
       "      <td>24</td>\n",
       "      <td>22</td>\n",
       "      <td>9</td>\n",
       "      <td>1</td>\n",
       "      <td>...</td>\n",
       "      <td>2</td>\n",
       "      <td>2</td>\n",
       "      <td>97</td>\n",
       "      <td>2</td>\n",
       "      <td>97</td>\n",
       "      <td>6</td>\n",
       "      <td>99</td>\n",
       "      <td>México</td>\n",
       "      <td>97</td>\n",
       "      <td>97</td>\n",
       "    </tr>\n",
       "    <tr>\n",
       "      <th>3</th>\n",
       "      <td>2021-04-29</td>\n",
       "      <td>z24953</td>\n",
       "      <td>1</td>\n",
       "      <td>12</td>\n",
       "      <td>9</td>\n",
       "      <td>1</td>\n",
       "      <td>9</td>\n",
       "      <td>9</td>\n",
       "      <td>10</td>\n",
       "      <td>1</td>\n",
       "      <td>...</td>\n",
       "      <td>1</td>\n",
       "      <td>1</td>\n",
       "      <td>2</td>\n",
       "      <td>2</td>\n",
       "      <td>97</td>\n",
       "      <td>7</td>\n",
       "      <td>99</td>\n",
       "      <td>México</td>\n",
       "      <td>97</td>\n",
       "      <td>97</td>\n",
       "    </tr>\n",
       "    <tr>\n",
       "      <th>4</th>\n",
       "      <td>2021-04-29</td>\n",
       "      <td>zz8e77</td>\n",
       "      <td>1</td>\n",
       "      <td>12</td>\n",
       "      <td>9</td>\n",
       "      <td>2</td>\n",
       "      <td>9</td>\n",
       "      <td>9</td>\n",
       "      <td>2</td>\n",
       "      <td>1</td>\n",
       "      <td>...</td>\n",
       "      <td>2</td>\n",
       "      <td>2</td>\n",
       "      <td>97</td>\n",
       "      <td>2</td>\n",
       "      <td>97</td>\n",
       "      <td>6</td>\n",
       "      <td>99</td>\n",
       "      <td>México</td>\n",
       "      <td>97</td>\n",
       "      <td>97</td>\n",
       "    </tr>\n",
       "  </tbody>\n",
       "</table>\n",
       "<p>5 rows × 40 columns</p>\n",
       "</div>"
      ],
      "text/plain": [
       "  FECHA_ACTUALIZACION ID_REGISTRO  ORIGEN  SECTOR  ENTIDAD_UM  SEXO  \\\n",
       "0          2021-04-29      z482b8       1      12           9     2   \n",
       "1          2021-04-29      z49a69       1      12          23     1   \n",
       "2          2021-04-29      z23d9d       1      12          22     2   \n",
       "3          2021-04-29      z24953       1      12           9     1   \n",
       "4          2021-04-29      zz8e77       1      12           9     2   \n",
       "\n",
       "   ENTIDAD_NAC  ENTIDAD_RES  MUNICIPIO_RES  TIPO_PACIENTE  ... OTRO_CASO  \\\n",
       "0            9            9             12              1  ...         2   \n",
       "1           23           23              4              2  ...         1   \n",
       "2           24           22              9              1  ...         2   \n",
       "3            9            9             10              1  ...         1   \n",
       "4            9            9              2              1  ...         2   \n",
       "\n",
       "  TOMA_MUESTRA_LAB RESULTADO_LAB  TOMA_MUESTRA_ANTIGENO  RESULTADO_ANTIGENO  \\\n",
       "0                2            97                      2                  97   \n",
       "1                2            97                      2                  97   \n",
       "2                2            97                      2                  97   \n",
       "3                1             2                      2                  97   \n",
       "4                2            97                      2                  97   \n",
       "\n",
       "   CLASIFICACION_FINAL  MIGRANTE  PAIS_NACIONALIDAD  PAIS_ORIGEN  UCI  \n",
       "0                    1        99             México           97   97  \n",
       "1                    2        99             México           97    1  \n",
       "2                    6        99             México           97   97  \n",
       "3                    7        99             México           97   97  \n",
       "4                    6        99             México           97   97  \n",
       "\n",
       "[5 rows x 40 columns]"
      ]
     },
     "execution_count": 11,
     "metadata": {},
     "output_type": "execute_result"
    }
   ],
   "source": [
    "# Get positive COVID 19 infected people\n",
    "#data = db.loc[(db['RESULTADO_LAB']==1)]\n",
    "#data = db.loc[db['CLASIFICACION_FINAL'].isin([1,2,3])]\n",
    "data = db\n",
    "start_number = len(data)\n",
    "print('Total registers: {:,.0f}'.format(len(data)))\n",
    "data.head()"
   ]
  },
  {
   "cell_type": "markdown",
   "id": "d3314f37",
   "metadata": {},
   "source": [
    "**Let us extract the catalogue information to integrate it in the database, this will help to easy understand the parameters**"
   ]
  },
  {
   "cell_type": "code",
   "execution_count": 12,
   "id": "d46ada96",
   "metadata": {},
   "outputs": [
    {
     "name": "stdout",
     "output_type": "stream",
     "text": [
      "/Users/c.marcoa.roblesg./Documents/Projects/Data_Visualization_with_Tableau/M5_Data_Visualization_with_Tableau_Project/Week2/Databases\n"
     ]
    },
    {
     "data": {
      "text/plain": [
       "['Catálogo ORIGEN',\n",
       " 'Catálogo SECTOR',\n",
       " 'Catálogo SEXO',\n",
       " 'Catálogo TIPO_PACIENTE',\n",
       " 'Catálogo SI_NO',\n",
       " 'Catálogo NACIONALIDAD',\n",
       " 'Catálogo RESULTADO_LAB',\n",
       " 'Catálogo RESULTADO_ANTIGENO',\n",
       " 'Catálogo CLASIFICACION_FINAL',\n",
       " 'Catálogo de ENTIDADES',\n",
       " 'Catálogo MUNICIPIOS']"
      ]
     },
     "execution_count": 12,
     "metadata": {},
     "output_type": "execute_result"
    }
   ],
   "source": [
    "print(path)\n",
    "os.system('rm -r '+os.path.join(path,'*.zip'))\n",
    "files = glob.glob(os.path.join(path,'*/*'))\n",
    "for file in files:\n",
    "    if re.search('Catalogos',file) != None:\n",
    "        break\n",
    "catalogues = pd.ExcelFile(file)\n",
    "catalogues.sheet_names"
   ]
  },
  {
   "cell_type": "markdown",
   "id": "4784069a",
   "metadata": {},
   "source": [
    "**In this part, the catalogue is open and merge to the database**\\\n",
    "**ORIGIN Catalogue**\\\n",
    "It describes the origin description.\n",
    "\n",
    "|Code|Descriptio|\n",
    "|----|----------|\n",
    "| 1  | USMER    |\n",
    "| 2  | Out of USMER |\n",
    "| 99 | Not specify |\n",
    "\n",
    "Sentinel surveillance is carried out through the system of respiratory disease monitoring units (USMER). The USMER includes medical units of the first, second or third level of care, and third level units also participate as USMERs, which due to their characteristics contribute to expanding the epidemiological information panorama, including those with a specialty in pulmonology, infectology or pediatrics.\n",
    "\n"
   ]
  },
  {
   "cell_type": "code",
   "execution_count": 13,
   "id": "4c633179",
   "metadata": {},
   "outputs": [
    {
     "name": "stdout",
     "output_type": "stream",
     "text": [
      "Total registers: 6,612,450 \n",
      "Starting register number: 6,612,450\n"
     ]
    }
   ],
   "source": [
    "origen = catalogues.parse('Catálogo ORIGEN')\n",
    "data = data.join(origen.set_index(['CLAVE']),on=['ORIGEN'])\n",
    "data = data.rename(columns={'DESCRIPCIÓN':'ORIGEN_DESC'})\n",
    "print('Total registers: {:,.0f}'.format(len(data)),'\\nStarting register number: {:,.0f}'.format(start_number))"
   ]
  },
  {
   "cell_type": "markdown",
   "id": "0b6ebefa",
   "metadata": {},
   "source": [
    "**SECTOR CATALOGUE**\n",
    "\n",
    "Identify the type of institution of the National Health System that provided the care.\n",
    "\n",
    "| Code | Description |\n",
    "|------|-------------|\n",
    "| 1\t| CRUZ ROJA|\n",
    "|2\t| DIF |\n",
    "|3\t| ESTATAL |\n",
    "|4\t| IMSS |\n",
    "|5\t| IMSS-BIENESTAR |\n",
    "|6\t| ISSSTE |\n",
    "|7\t| MUNICIPAL|\n",
    "|8\t| PEMEX|\n",
    "|9\t| PRIVADA|\n",
    "|10\t| SEDENA|\n",
    "|11\t| SEMAR|\n",
    "|12\t| SSA|\n",
    "|13\t| UNIVERSITARIO|\n",
    "|99\t| NO ESPECIFICADO |"
   ]
  },
  {
   "cell_type": "code",
   "execution_count": 14,
   "id": "0158aed4",
   "metadata": {},
   "outputs": [
    {
     "name": "stdout",
     "output_type": "stream",
     "text": [
      "Total registers: 6,612,450 \n",
      "Starting register number: 6,612,450\n"
     ]
    }
   ],
   "source": [
    "sector = catalogues.parse('Catálogo SECTOR')\n",
    "data = data.join(sector.set_index(['CLAVE']),on=['SECTOR'])\n",
    "data = data.rename(columns={'DESCRIPCIÓN':'SECTOR_DESC'})\n",
    "print('Total registers: {:,.0f}'.format(len(data)),'\\nStarting register number: {:,.0f}'.format(start_number))"
   ]
  },
  {
   "cell_type": "markdown",
   "id": "4702bb14",
   "metadata": {},
   "source": [
    "**GENDER**\n",
    "\n",
    "| CODE |\tDESCRIPTION|\n",
    "|-|-|\n",
    "|1|\tMUJER|\n",
    "|2|\tHOMBRE|\n",
    "|99|\tNO ESPECIFICADO|\n"
   ]
  },
  {
   "cell_type": "code",
   "execution_count": 15,
   "id": "d79ec7b1",
   "metadata": {},
   "outputs": [
    {
     "name": "stdout",
     "output_type": "stream",
     "text": [
      "Total registers: 6,612,450 \n",
      "Starting register number: 6,612,450\n"
     ]
    }
   ],
   "source": [
    "sexo = catalogues.parse('Catálogo SEXO')\n",
    "data = data.join(sexo.set_index(['CLAVE']),on=['SEXO'])\n",
    "data = data.rename(columns={'DESCRIPCIÓN':'SEXO_DESC'})\n",
    "print('Total registers: {:,.0f}'.format(len(data)),'\\nStarting register number: {:,.0f}'.format(start_number))"
   ]
  },
  {
   "cell_type": "markdown",
   "id": "58044949",
   "metadata": {},
   "source": [
    "**Type of Patient**\n",
    "\n",
    "Classify a patient by its status, if it is set to a hospital or it is not necesary to stay there.\n",
    "\n",
    "|CODE\t| DESCRIPTION|\n",
    "|-|-|\n",
    "|1|\tAMBULATORIO|\n",
    "|2|\tHOSPITALIZADO|\n",
    "|99|\tNO ESPECIFICADO|"
   ]
  },
  {
   "cell_type": "code",
   "execution_count": 16,
   "id": "f2bf52b1",
   "metadata": {},
   "outputs": [
    {
     "name": "stdout",
     "output_type": "stream",
     "text": [
      "Total registers: 6,612,450 \n",
      "Starting register number: 6,612,450\n"
     ]
    }
   ],
   "source": [
    "tipoPaciente = catalogues.parse('Catálogo TIPO_PACIENTE')\n",
    "data = data.join(tipoPaciente.set_index(['CLAVE']),on=['TIPO_PACIENTE'])\n",
    "data = data.rename(columns={'DESCRIPCIÓN':'TIPO_PACIENTE_DESC'})\n",
    "print('Total registers: {:,.0f}'.format(len(data)),'\\nStarting register number: {:,.0f}'.format(start_number))"
   ]
  },
  {
   "cell_type": "markdown",
   "id": "d1f57b7e",
   "metadata": {},
   "source": [
    "**Nationality**\n",
    "\n",
    "Classify the patient by its nationality\n",
    "\n",
    "|CODE|\tDESCRIPTION|\n",
    "|-|-|\n",
    "|1\t|MEXICANA|\n",
    "|2\t|EXTRANJERA|\n",
    "|99\t|NO ESPECIFICADO|"
   ]
  },
  {
   "cell_type": "code",
   "execution_count": 17,
   "id": "5017d16f",
   "metadata": {},
   "outputs": [
    {
     "name": "stdout",
     "output_type": "stream",
     "text": [
      "Total registers: 6,612,450 \n",
      "Starting register number: 6,612,450\n"
     ]
    }
   ],
   "source": [
    "nacionalidad = catalogues.parse('Catálogo NACIONALIDAD')\n",
    "data = data.join(nacionalidad.set_index(['CLAVE']),on=['NACIONALIDAD'])\n",
    "data = data.rename(columns={'DESCRIPCIÓN':'NACIONALIDAD_DESC'})\n",
    "print('Total registers: {:,.0f}'.format(len(data)),'\\nStarting register number: {:,.0f}'.format(start_number))"
   ]
  },
  {
   "cell_type": "markdown",
   "id": "8bce0c38",
   "metadata": {},
   "source": [
    "**Medical Analysis**\n",
    "\n",
    "This is the most important classification, because it identifies the personn as infected or healthy.\n",
    "\n",
    "|CODE|\tDESCRIPTION|\n",
    "|-|-|\n",
    "|1|\tPOSITIVO A SARS-COV-2|\n",
    "|2|\tNO POSITIVO A SARS-COV-2|\n",
    "|3|\tRESULTADO PENDIENTE|\n",
    "|4|\tRESULTADO NO ADECUADO |\n",
    "|97|\tNO APLICA (CASO SIN MUESTRA)|"
   ]
  },
  {
   "cell_type": "code",
   "execution_count": 18,
   "id": "5e1334c8",
   "metadata": {},
   "outputs": [
    {
     "name": "stdout",
     "output_type": "stream",
     "text": [
      "Total registers: 6,612,450 \n",
      "Starting register number: 6,612,450\n"
     ]
    }
   ],
   "source": [
    "resultadoLab = catalogues.parse('Catálogo RESULTADO_LAB',1)\n",
    "data = data.join(resultadoLab.set_index(['CLAVE']),on=['RESULTADO_LAB'])\n",
    "data = data.rename(columns={'DESCRIPCIÓN':'RESULTADO_LAB_DESC'})\n",
    "print('Total registers: {:,.0f}'.format(len(data)),'\\nStarting register number: {:,.0f}'.format(start_number))"
   ]
  },
  {
   "cell_type": "markdown",
   "id": "635ed303",
   "metadata": {},
   "source": [
    "**Final Classification**\n",
    "\n",
    "It checks and compare the status with the medical appointment.\n",
    "\n",
    "|CODE|\tCLASIFICATION|\tDESCRIPTION|\n",
    "|-|-|-|\n",
    "|1|\tCASO DE COVID-19 CONFIRMADO POR ASOCIACIÓN CLÍNICA EPIDEMIOLÓGICA|\t\"Confirmado por asociación aplica cuando el caso informó ser contacto de un positivo a COVID-19 (y este se encuentra registrado en el SISVER) y: Al caso no se le tomo muestra o la muestra resultó no válida. \"|\n",
    "|2|\tCASO DE COVID-19 CONFIRMADO POR COMITÉ DE  DICTAMINACIÓN|\t\"Confirmado por dictaminación solo aplica para defunciones bajo las siguientes condiciones: Al caso no se le tomo muestra o sí se tomó muestra, pero la muestra resultó no válida. \"|\n",
    "|3|\tCASO DE SARS-COV-2  CONFIRMADO POR LABORATORIO|\t\"Confirmado por laboratorio aplica cuando: El caso tiene muestra y resultó positiva  a SARS-CoV-2, sin importar si el caso tienen asociación clínica epidemiológica.\"|\n",
    "|4\t|INVÁLIDO POR LABORATORIO|\tInválido aplica cuando el caso no tienen asociación clínico epidemiológica, ni dictaminación a COVID-19. Se le tomó muestra y esta resultó no válida. |\n",
    "|5\t|NO REALIZADO POR LABORATORIO\t|No realizado aplica cuando el caso no tienen asociación clínico epidemiológica, ni dictaminación a COVID-19 y se le tomó muestra y esta no se procesó.|\n",
    "|6\t|CASO SOSPECHOSO|\t\"Sospechoso aplica cuando: El caso no tienen asociación clínico epidemiológica, ni dictaminación a COVID-19 y no se le tomó muestra, o se le tomó muestra y está pendiente de resultado, sin importar otra condición.\"|\n",
    "|7\t|NEGATIVO A SARS-COV-2 POR LABORATORIO|\t\"Negativo aplica cuando el caso:Se le tomo muestra y esta resultó: negativa a SARS-COV-2 o positiva a cualquier otro virus respiratorio (Influenza, VSR, Bocavirus, otros) sin importar que este caso tenga asociación clínico epidemiológica o dictaminación a COVID-19.\"|"
   ]
  },
  {
   "cell_type": "code",
   "execution_count": 19,
   "id": "1191a003",
   "metadata": {},
   "outputs": [
    {
     "name": "stdout",
     "output_type": "stream",
     "text": [
      "Total registers: 6,612,450 \n",
      "Starting register number: 6,612,450\n"
     ]
    }
   ],
   "source": [
    "classificacion_final = catalogues.parse('Catálogo CLASIFICACION_FINAL',2)\n",
    "data = data.join(classificacion_final.set_index(['CLAVE']),on=['CLASIFICACION_FINAL'])\n",
    "data = data.rename(columns={'DESCRIPCIÓN':'CLAS_DESC'})\n",
    "print('Total registers: {:,.0f}'.format(len(data)),'\\nStarting register number: {:,.0f}'.format(start_number))"
   ]
  },
  {
   "attachments": {
    "358c390a-acf6-4485-b7b1-266f2e64821a.png": {
     "image/png": "[encoded data removed]"
    }
   },
   "cell_type": "markdown",
   "id": "0b92fc00",
   "metadata": {},
   "source": [
    "**Entities Catalogue**\\\n",
    "All the states that present someone infected.\\\n",
    "![image.png](attachment:358c390a-acf6-4485-b7b1-266f2e64821a.png)"
   ]
  },
  {
   "cell_type": "code",
   "execution_count": 20,
   "id": "2c2f2c3d",
   "metadata": {},
   "outputs": [
    {
     "name": "stdout",
     "output_type": "stream",
     "text": [
      "Total registers: 6,612,450 \n",
      "Starting register number: 6,612,450\n"
     ]
    }
   ],
   "source": [
    "entidades = catalogues.parse('Catálogo de ENTIDADES')\n",
    "data = data.join(entidades.set_index(['CLAVE_ENTIDAD']),on=['ENTIDAD_NAC'])\n",
    "data = data.rename(columns={'ENTIDAD_FEDERATIVA':'ENTIDAD_FEDERATIVA_NAC','ABREVIATURA':'ABREVIATURA_NAC'})\n",
    "print('Total registers: {:,.0f}'.format(len(data)),'\\nStarting register number: {:,.0f}'.format(start_number))"
   ]
  },
  {
   "cell_type": "code",
   "execution_count": 21,
   "id": "ec7fcb5a",
   "metadata": {},
   "outputs": [
    {
     "name": "stdout",
     "output_type": "stream",
     "text": [
      "Total registers: 6,612,450 \n",
      "Starting register number: 6,612,450\n"
     ]
    }
   ],
   "source": [
    "entidades = catalogues.parse('Catálogo de ENTIDADES')\n",
    "data = data.join(entidades.set_index(['CLAVE_ENTIDAD']),on=['ENTIDAD_RES'])\n",
    "data = data.rename(columns={'ENTIDAD_FEDERATIVA':'ENTIDAD_FEDERATIVA_RES','ABREVIATURA':'ABREVIATURA_RES'})\n",
    "print('Total registers: {:,.0f}'.format(len(data)),'\\nStarting register number: {:,.0f}'.format(start_number))"
   ]
  },
  {
   "cell_type": "code",
   "execution_count": 22,
   "id": "2d5488b3",
   "metadata": {},
   "outputs": [
    {
     "name": "stdout",
     "output_type": "stream",
     "text": [
      "Total registers: 6,612,450 \n",
      "Starting register number: 6,612,450\n"
     ]
    }
   ],
   "source": [
    "entidades = catalogues.parse('Catálogo de ENTIDADES')\n",
    "data = data.join(entidades.set_index(['CLAVE_ENTIDAD']),on=['ENTIDAD_UM'])\n",
    "data = data.rename(columns={'ENTIDAD_FEDERATIVA':'ENTIDAD_FEDERATIVA_UM','ABREVIATURA':'ABREVIATURA_UM'})\n",
    "print('Total registers: {:,.0f}'.format(len(data)),'\\nStarting register number: {:,.0f}'.format(start_number))"
   ]
  },
  {
   "attachments": {
    "f0c9c53f-0275-4444-a0f5-8ace527a8afc.png": {
     "image/png": "[encoded data removed]"
    }
   },
   "cell_type": "markdown",
   "id": "14ff3079",
   "metadata": {},
   "source": [
    "**Yes or no catalogue**\\\n",
    "Depending on the column it shows a result.\\\n",
    "![image.png](attachment:f0c9c53f-0275-4444-a0f5-8ace527a8afc.png)"
   ]
  },
  {
   "cell_type": "code",
   "execution_count": 23,
   "id": "3fec5834",
   "metadata": {},
   "outputs": [
    {
     "name": "stdout",
     "output_type": "stream",
     "text": [
      "Total registers: 6,612,450 \n",
      "Starting register number: 6,612,450\n"
     ]
    }
   ],
   "source": [
    "si_no = catalogues.parse('Catálogo SI_NO')\n",
    "data = data.join(si_no.set_index(['CLAVE']),on=['INTUBADO'])\n",
    "data = data.rename(columns={'DESCRIPCIÓN':'INTUBADO_DESC'})\n",
    "print('Total registers: {:,.0f}'.format(len(data)),'\\nStarting register number: {:,.0f}'.format(start_number))"
   ]
  },
  {
   "cell_type": "code",
   "execution_count": 24,
   "id": "88f7ce04",
   "metadata": {},
   "outputs": [
    {
     "name": "stdout",
     "output_type": "stream",
     "text": [
      "Total registers: 6,612,450 \n",
      "Starting register number: 6,612,450\n"
     ]
    }
   ],
   "source": [
    "si_no = catalogues.parse('Catálogo SI_NO')\n",
    "data = data.join(si_no.set_index(['CLAVE']),on=['NEUMONIA'])\n",
    "data = data.rename(columns={'DESCRIPCIÓN':'NEUMONIA_DESC'})\n",
    "print('Total registers: {:,.0f}'.format(len(data)),'\\nStarting register number: {:,.0f}'.format(start_number))"
   ]
  },
  {
   "cell_type": "code",
   "execution_count": 25,
   "id": "1032873e",
   "metadata": {},
   "outputs": [
    {
     "name": "stdout",
     "output_type": "stream",
     "text": [
      "Total registers: 6,612,450 \n",
      "Starting register number: 6,612,450\n"
     ]
    }
   ],
   "source": [
    "si_no = catalogues.parse('Catálogo SI_NO')\n",
    "data = data.join(si_no.set_index(['CLAVE']),on=['HABLA_LENGUA_INDIG'])\n",
    "data = data.rename(columns={'DESCRIPCIÓN':'HABLA_LENGUA_INDIG_DESC'})\n",
    "print('Total registers: {:,.0f}'.format(len(data)),'\\nStarting register number: {:,.0f}'.format(start_number))"
   ]
  },
  {
   "cell_type": "code",
   "execution_count": 26,
   "id": "4c948fa5",
   "metadata": {},
   "outputs": [
    {
     "name": "stdout",
     "output_type": "stream",
     "text": [
      "Total registers: 6,612,450 \n",
      "Starting register number: 6,612,450\n"
     ]
    }
   ],
   "source": [
    "si_no = catalogues.parse('Catálogo SI_NO')\n",
    "data = data.join(si_no.set_index(['CLAVE']),on=['INDIGENA'])\n",
    "data = data.rename(columns={'DESCRIPCIÓN':'INDIGENA_DESC'})\n",
    "print('Total registers: {:,.0f}'.format(len(data)),'\\nStarting register number: {:,.0f}'.format(start_number))"
   ]
  },
  {
   "cell_type": "code",
   "execution_count": 27,
   "id": "7a95d4b6",
   "metadata": {},
   "outputs": [
    {
     "name": "stdout",
     "output_type": "stream",
     "text": [
      "Total registers: 6,612,450 \n",
      "Starting register number: 6,612,450\n"
     ]
    }
   ],
   "source": [
    "si_no = catalogues.parse('Catálogo SI_NO')\n",
    "data = data.join(si_no.set_index(['CLAVE']),on=['DIABETES'])\n",
    "data = data.rename(columns={'DESCRIPCIÓN':'DIABETES_DESC'})\n",
    "print('Total registers: {:,.0f}'.format(len(data)),'\\nStarting register number: {:,.0f}'.format(start_number))"
   ]
  },
  {
   "cell_type": "code",
   "execution_count": 28,
   "id": "6c72f7e2",
   "metadata": {},
   "outputs": [
    {
     "name": "stdout",
     "output_type": "stream",
     "text": [
      "Total registers: 6,612,450 \n",
      "Starting register number: 6,612,450\n"
     ]
    }
   ],
   "source": [
    "si_no = catalogues.parse('Catálogo SI_NO')\n",
    "data = data.join(si_no.set_index(['CLAVE']),on=['EPOC'])\n",
    "data = data.rename(columns={'DESCRIPCIÓN':'EPOC_DESC'})\n",
    "print('Total registers: {:,.0f}'.format(len(data)),'\\nStarting register number: {:,.0f}'.format(start_number))"
   ]
  },
  {
   "cell_type": "code",
   "execution_count": 29,
   "id": "5dbc9296",
   "metadata": {},
   "outputs": [
    {
     "name": "stdout",
     "output_type": "stream",
     "text": [
      "Total registers: 6,612,450 \n",
      "Starting register number: 6,612,450\n"
     ]
    }
   ],
   "source": [
    "si_no = catalogues.parse('Catálogo SI_NO')\n",
    "data = data.join(si_no.set_index(['CLAVE']),on=['ASMA'])\n",
    "data = data.rename(columns={'DESCRIPCIÓN':'ASMA_DESC'})\n",
    "print('Total registers: {:,.0f}'.format(len(data)),'\\nStarting register number: {:,.0f}'.format(start_number))"
   ]
  },
  {
   "cell_type": "code",
   "execution_count": 30,
   "id": "28ee8907",
   "metadata": {},
   "outputs": [
    {
     "name": "stdout",
     "output_type": "stream",
     "text": [
      "Total registers: 6,612,450 \n",
      "Starting register number: 6,612,450\n"
     ]
    }
   ],
   "source": [
    "si_no = catalogues.parse('Catálogo SI_NO')\n",
    "data = data.join(si_no.set_index(['CLAVE']),on=['INMUSUPR'])\n",
    "data = data.rename(columns={'DESCRIPCIÓN':'INMUSUPR_DESC'})\n",
    "print('Total registers: {:,.0f}'.format(len(data)),'\\nStarting register number: {:,.0f}'.format(start_number))"
   ]
  },
  {
   "cell_type": "code",
   "execution_count": 31,
   "id": "825255e2",
   "metadata": {},
   "outputs": [
    {
     "name": "stdout",
     "output_type": "stream",
     "text": [
      "Total registers: 6,612,450 \n",
      "Starting register number: 6,612,450\n"
     ]
    }
   ],
   "source": [
    "si_no = catalogues.parse('Catálogo SI_NO')\n",
    "data = data.join(si_no.set_index(['CLAVE']),on=['OTRA_COM'])\n",
    "data = data.rename(columns={'DESCRIPCIÓN':'OTRA_COM_DESC'})\n",
    "print('Total registers: {:,.0f}'.format(len(data)),'\\nStarting register number: {:,.0f}'.format(start_number))"
   ]
  },
  {
   "cell_type": "code",
   "execution_count": 32,
   "id": "296efb19",
   "metadata": {},
   "outputs": [
    {
     "name": "stdout",
     "output_type": "stream",
     "text": [
      "Total registers: 6,612,450 \n",
      "Starting register number: 6,612,450\n"
     ]
    }
   ],
   "source": [
    "si_no = catalogues.parse('Catálogo SI_NO')\n",
    "data = data.join(si_no.set_index(['CLAVE']),on=['CARDIOVASCULAR'])\n",
    "data = data.rename(columns={'DESCRIPCIÓN':'CARDIOVASCULAR_DESC'})\n",
    "print('Total registers: {:,.0f}'.format(len(data)),'\\nStarting register number: {:,.0f}'.format(start_number))"
   ]
  },
  {
   "cell_type": "code",
   "execution_count": 33,
   "id": "7594cf5f",
   "metadata": {},
   "outputs": [
    {
     "name": "stdout",
     "output_type": "stream",
     "text": [
      "Total registers: 6,612,450 \n",
      "Starting register number: 6,612,450\n"
     ]
    }
   ],
   "source": [
    "si_no = catalogues.parse('Catálogo SI_NO')\n",
    "data = data.join(si_no.set_index(['CLAVE']),on=['OBESIDAD'])\n",
    "data = data.rename(columns={'DESCRIPCIÓN':'OBESIDAD_DESC'})\n",
    "print('Total registers: {:,.0f}'.format(len(data)),'\\nStarting register number: {:,.0f}'.format(start_number))"
   ]
  },
  {
   "cell_type": "code",
   "execution_count": 34,
   "id": "f65e8cbb",
   "metadata": {},
   "outputs": [
    {
     "name": "stdout",
     "output_type": "stream",
     "text": [
      "Total registers: 6,612,450 \n",
      "Starting register number: 6,612,450\n"
     ]
    }
   ],
   "source": [
    "si_no = catalogues.parse('Catálogo SI_NO')\n",
    "data = data.join(si_no.set_index(['CLAVE']),on=['RENAL_CRONICA'])\n",
    "data = data.rename(columns={'DESCRIPCIÓN':'RENAL_CRONICA_DESC'})\n",
    "print('Total registers: {:,.0f}'.format(len(data)),'\\nStarting register number: {:,.0f}'.format(start_number))"
   ]
  },
  {
   "cell_type": "code",
   "execution_count": 35,
   "id": "9e69af1f",
   "metadata": {},
   "outputs": [
    {
     "name": "stdout",
     "output_type": "stream",
     "text": [
      "Total registers: 6,612,450 \n",
      "Starting register number: 6,612,450\n"
     ]
    }
   ],
   "source": [
    "si_no = catalogues.parse('Catálogo SI_NO')\n",
    "data = data.join(si_no.set_index(['CLAVE']),on=['TABAQUISMO'])\n",
    "data = data.rename(columns={'DESCRIPCIÓN':'TABAQUISMO_DESC'})\n",
    "print('Total registers: {:,.0f}'.format(len(data)),'\\nStarting register number: {:,.0f}'.format(start_number))"
   ]
  },
  {
   "cell_type": "code",
   "execution_count": 36,
   "id": "a509f8f8",
   "metadata": {},
   "outputs": [
    {
     "name": "stdout",
     "output_type": "stream",
     "text": [
      "Total registers: 6,612,450 \n",
      "Starting register number: 6,612,450\n"
     ]
    }
   ],
   "source": [
    "si_no = catalogues.parse('Catálogo SI_NO')\n",
    "data = data.join(si_no.set_index(['CLAVE']),on=['OTRO_CASO'])\n",
    "data = data.rename(columns={'DESCRIPCIÓN':'OTRO_CASO_DESC'})\n",
    "print('Total registers: {:,.0f}'.format(len(data)),'\\nStarting register number: {:,.0f}'.format(start_number))"
   ]
  },
  {
   "cell_type": "code",
   "execution_count": 37,
   "id": "404e6f2d",
   "metadata": {},
   "outputs": [
    {
     "name": "stdout",
     "output_type": "stream",
     "text": [
      "Total registers: 6,612,450 \n",
      "Starting register number: 6,612,450\n"
     ]
    }
   ],
   "source": [
    "si_no = catalogues.parse('Catálogo SI_NO')\n",
    "data = data.join(si_no.set_index(['CLAVE']),on=['TOMA_MUESTRA_LAB'])\n",
    "data = data.rename(columns={'DESCRIPCIÓN':'TOMA_MUESTRA_LAB_DESC'})\n",
    "print('Total registers: {:,.0f}'.format(len(data)),'\\nStarting register number: {:,.0f}'.format(start_number))"
   ]
  },
  {
   "cell_type": "code",
   "execution_count": 38,
   "id": "eae2c3ad",
   "metadata": {},
   "outputs": [
    {
     "name": "stdout",
     "output_type": "stream",
     "text": [
      "Total registers: 6,612,450 \n",
      "Starting register number: 6,612,450\n"
     ]
    }
   ],
   "source": [
    "si_no = catalogues.parse('Catálogo SI_NO')\n",
    "data = data.join(si_no.set_index(['CLAVE']),on=['TOMA_MUESTRA_ANTIGENO'])\n",
    "data = data.rename(columns={'DESCRIPCIÓN':'TOMA_MUESTRA_ANTIGENO_DESC'})\n",
    "print('Total registers: {:,.0f}'.format(len(data)),'\\nStarting register number: {:,.0f}'.format(start_number))"
   ]
  },
  {
   "cell_type": "code",
   "execution_count": 39,
   "id": "cab0662a",
   "metadata": {},
   "outputs": [
    {
     "name": "stdout",
     "output_type": "stream",
     "text": [
      "Total registers: 6,612,450 \n",
      "Starting register number: 6,612,450\n"
     ]
    }
   ],
   "source": [
    "si_no = catalogues.parse('Catálogo SI_NO')\n",
    "data = data.join(si_no.set_index(['CLAVE']),on=['MIGRANTE'])\n",
    "data = data.rename(columns={'DESCRIPCIÓN':'MIGRANTE_DESC'})\n",
    "print('Total registers: {:,.0f}'.format(len(data)),'\\nStarting register number: {:,.0f}'.format(start_number))"
   ]
  },
  {
   "cell_type": "code",
   "execution_count": 40,
   "id": "116a0f4f",
   "metadata": {},
   "outputs": [
    {
     "name": "stdout",
     "output_type": "stream",
     "text": [
      "Total registers: 6,612,450 \n",
      "Starting register number: 6,612,450\n"
     ]
    }
   ],
   "source": [
    "si_no = catalogues.parse('Catálogo SI_NO')\n",
    "data = data.join(si_no.set_index(['CLAVE']),on=['UCI'])\n",
    "data = data.rename(columns={'DESCRIPCIÓN':'UCI_DESC'})\n",
    "print('Total registers: {:,.0f}'.format(len(data)),'\\nStarting register number: {:,.0f}'.format(start_number))"
   ]
  },
  {
   "cell_type": "code",
   "execution_count": 41,
   "id": "55ec48ae",
   "metadata": {},
   "outputs": [
    {
     "name": "stdout",
     "output_type": "stream",
     "text": [
      "Total registers: 6,612,450 \n",
      "Starting register number: 6,612,450\n"
     ]
    }
   ],
   "source": [
    "si_no = catalogues.parse('Catálogo SI_NO')\n",
    "data = data.join(si_no.set_index(['CLAVE']),on=['HIPERTENSION'])\n",
    "data = data.rename(columns={'DESCRIPCIÓN':'HIPERTENSION_DESC'})\n",
    "print('Total registers: {:,.0f}'.format(len(data)),'\\nStarting register number: {:,.0f}'.format(start_number))"
   ]
  },
  {
   "cell_type": "code",
   "execution_count": 42,
   "id": "5ea85f38",
   "metadata": {},
   "outputs": [
    {
     "name": "stdout",
     "output_type": "stream",
     "text": [
      "Total registers: 6,612,450 \n",
      "Starting register number: 6,612,450\n"
     ]
    }
   ],
   "source": [
    "si_no = catalogues.parse('Catálogo SI_NO')\n",
    "data = data.join(si_no.set_index(['CLAVE']),on=['EMBARAZO'])\n",
    "data = data.rename(columns={'DESCRIPCIÓN':'EMBARAZO_DESC'})\n",
    "print('Total registers: {:,.0f}'.format(len(data)),'\\nStarting register number: {:,.0f}'.format(start_number))"
   ]
  },
  {
   "cell_type": "code",
   "execution_count": 43,
   "id": "680be8b6",
   "metadata": {},
   "outputs": [
    {
     "name": "stdout",
     "output_type": "stream",
     "text": [
      "Total registers: 6,612,450 \n",
      "Starting register number: 6,612,450\n"
     ]
    }
   ],
   "source": [
    "municipios = catalogues.parse('Catálogo MUNICIPIOS')\n",
    "data = data.join(municipios.set_index(['CLAVE_MUNICIPIO','CLAVE_ENTIDAD']),on=['MUNICIPIO_RES','ENTIDAD_RES'])\n",
    "data = data.rename(columns={'DESCRIPCIÓN':'MUNICIPIO_RES_DESC'})\n",
    "print('Total registers: {:,.0f}'.format(len(data)),'\\nStarting register number: {:,.0f}'.format(start_number))"
   ]
  },
  {
   "cell_type": "code",
   "execution_count": 44,
   "id": "c0b52786",
   "metadata": {},
   "outputs": [
    {
     "name": "stdout",
     "output_type": "stream",
     "text": [
      "Total registers: 6,612,450 \n",
      "Starting register number: 6,612,450\n"
     ]
    }
   ],
   "source": [
    "antigeno = catalogues.parse('Catálogo RESULTADO_ANTIGENO',header=1)\n",
    "data = data.join(antigeno.set_index(['CLAVE']),on=['RESULTADO_ANTIGENO'])\n",
    "data = data.rename(columns={'DESCRIPCIÓN':'RESULTADO_ANTIGENO_DESC'})\n",
    "print('Total registers: {:,.0f}'.format(len(data)),'\\nStarting register number: {:,.0f}'.format(start_number))"
   ]
  },
  {
   "cell_type": "code",
   "execution_count": 45,
   "id": "80df7f70",
   "metadata": {},
   "outputs": [],
   "source": [
    "data.loc[(data['PAIS_ORIGEN'].isin(['97'])),'PAIS_ORIGEN'] = data.loc[(data['PAIS_ORIGEN'].isin(['97'])),'PAIS_NACIONALIDAD']"
   ]
  },
  {
   "cell_type": "markdown",
   "id": "b9db1541",
   "metadata": {},
   "source": [
    "**Change the date 9999-99-99 to Alive**"
   ]
  },
  {
   "cell_type": "code",
   "execution_count": 46,
   "id": "d3b7ebe1",
   "metadata": {},
   "outputs": [],
   "source": [
    "import datetime\n",
    "\n",
    "data['FECHA_INGRESO'] = pd.to_datetime(data['FECHA_INGRESO'])\n",
    "data.loc[(data['FECHA_DEF'].isin(['9999-99-99'])),'Status'] = 'Alive'\n",
    "data.loc[(~data['FECHA_DEF'].isin(['9999-99-99'])),'Status'] = 'Dead'\n",
    "\n",
    "today = datetime.datetime.now()\n",
    "delta_time = datetime.timedelta(days = 15)\n",
    "newDate = today - delta_time\n",
    "data.loc[(data['FECHA_DEF'].isin(['9999-99-99'])) & (data['FECHA_INGRESO']>pd.to_datetime(newDate.date())) & (data['TIPO_PACIENTE_DESC'].isin(['AMBULATORIO'])),'Status']='Active'\n",
    "\n",
    "today = datetime.datetime.now()\n",
    "delta_time = datetime.timedelta(days = 25)\n",
    "newDate = today - delta_time\n",
    "data.loc[(data['FECHA_DEF'].isin(['9999-99-99'])) & (data['FECHA_INGRESO']>pd.to_datetime(newDate.date())) & (data['TIPO_PACIENTE_DESC'].isin(['HOSPITALIZADO'])),'Status']='Active'"
   ]
  },
  {
   "cell_type": "markdown",
   "id": "3cf17649",
   "metadata": {},
   "source": [
    "**Change the column to datetime format**"
   ]
  },
  {
   "cell_type": "code",
   "execution_count": 47,
   "id": "8b7ca1fe",
   "metadata": {},
   "outputs": [],
   "source": [
    "data['FECHA_INGRESO'] = pd.to_datetime(data['FECHA_INGRESO'])\n",
    "data['FECHA_SINTOMAS'] = pd.to_datetime(data['FECHA_SINTOMAS'])"
   ]
  },
  {
   "cell_type": "markdown",
   "id": "f9afadfa",
   "metadata": {},
   "source": [
    "**Extract the month from the datetime analysis**"
   ]
  },
  {
   "cell_type": "code",
   "execution_count": 48,
   "id": "c8dbde8a",
   "metadata": {},
   "outputs": [],
   "source": [
    "data['MES_ING'] = data['FECHA_INGRESO'].dt.month\n",
    "data['MES_SINTOMAS'] = data['FECHA_SINTOMAS'].dt.month\n",
    "data['MES_DEF'] = data['FECHA_DEF'].str.split('-',expand=True)[1].astype(int)"
   ]
  },
  {
   "cell_type": "markdown",
   "id": "ccfca8ec",
   "metadata": {},
   "source": [
    "**Saving the result into a csv file**"
   ]
  },
  {
   "cell_type": "code",
   "execution_count": 49,
   "id": "6de5a433",
   "metadata": {},
   "outputs": [],
   "source": [
    "data.loc[(data['EDAD']<5),'EDAD_CLASS'] = 'Baby'\n",
    "data.loc[(data['EDAD'].between(5,8)),'EDAD_CLASS'] = 'Child'\n",
    "data.loc[(data['EDAD'].between(9,17)),'EDAD_CLASS'] = 'Teenage'\n",
    "data.loc[(data['EDAD'].between(18,30)),'EDAD_CLASS'] = 'Young Adult'\n",
    "data.loc[(data['EDAD'].between(31,60)),'EDAD_CLASS'] = 'Adult'\n",
    "data.loc[(data['EDAD']>60),'EDAD_CLASS'] = 'Senior Adult'"
   ]
  },
  {
   "cell_type": "code",
   "execution_count": 50,
   "id": "560154f9",
   "metadata": {},
   "outputs": [
    {
     "data": {
      "text/html": [
       "<div>\n",
       "<style scoped>\n",
       "    .dataframe tbody tr th:only-of-type {\n",
       "        vertical-align: middle;\n",
       "    }\n",
       "\n",
       "    .dataframe tbody tr th {\n",
       "        vertical-align: top;\n",
       "    }\n",
       "\n",
       "    .dataframe thead th {\n",
       "        text-align: right;\n",
       "    }\n",
       "</style>\n",
       "<table border=\"1\" class=\"dataframe\">\n",
       "  <thead>\n",
       "    <tr style=\"text-align: right;\">\n",
       "      <th></th>\n",
       "      <th>FECHA_ACTUALIZACION</th>\n",
       "      <th>ID_REGISTRO</th>\n",
       "      <th>ORIGEN</th>\n",
       "      <th>SECTOR</th>\n",
       "      <th>ENTIDAD_UM</th>\n",
       "      <th>SEXO</th>\n",
       "      <th>ENTIDAD_NAC</th>\n",
       "      <th>ENTIDAD_RES</th>\n",
       "      <th>MUNICIPIO_RES</th>\n",
       "      <th>TIPO_PACIENTE</th>\n",
       "      <th>...</th>\n",
       "      <th>UCI_DESC</th>\n",
       "      <th>HIPERTENSION_DESC</th>\n",
       "      <th>EMBARAZO_DESC</th>\n",
       "      <th>MUNICIPIO</th>\n",
       "      <th>RESULTADO_ANTIGENO_DESC</th>\n",
       "      <th>Status</th>\n",
       "      <th>MES_ING</th>\n",
       "      <th>MES_SINTOMAS</th>\n",
       "      <th>MES_DEF</th>\n",
       "      <th>EDAD_CLASS</th>\n",
       "    </tr>\n",
       "  </thead>\n",
       "  <tbody>\n",
       "    <tr>\n",
       "      <th>0</th>\n",
       "      <td>2021-04-29</td>\n",
       "      <td>z482b8</td>\n",
       "      <td>1</td>\n",
       "      <td>12</td>\n",
       "      <td>9</td>\n",
       "      <td>2</td>\n",
       "      <td>9</td>\n",
       "      <td>9</td>\n",
       "      <td>12</td>\n",
       "      <td>1</td>\n",
       "      <td>...</td>\n",
       "      <td>NO APLICA</td>\n",
       "      <td>NO</td>\n",
       "      <td>NO APLICA</td>\n",
       "      <td>TLALPAN</td>\n",
       "      <td>NO APLICA (CASO SIN MUESTRA)</td>\n",
       "      <td>Alive</td>\n",
       "      <td>10</td>\n",
       "      <td>10</td>\n",
       "      <td>99</td>\n",
       "      <td>Adult</td>\n",
       "    </tr>\n",
       "    <tr>\n",
       "      <th>1</th>\n",
       "      <td>2021-04-29</td>\n",
       "      <td>z49a69</td>\n",
       "      <td>1</td>\n",
       "      <td>12</td>\n",
       "      <td>23</td>\n",
       "      <td>1</td>\n",
       "      <td>23</td>\n",
       "      <td>23</td>\n",
       "      <td>4</td>\n",
       "      <td>2</td>\n",
       "      <td>...</td>\n",
       "      <td>SI</td>\n",
       "      <td>SI</td>\n",
       "      <td>NO</td>\n",
       "      <td>OTHÓN P. BLANCO</td>\n",
       "      <td>NO APLICA (CASO SIN MUESTRA)</td>\n",
       "      <td>Dead</td>\n",
       "      <td>7</td>\n",
       "      <td>7</td>\n",
       "      <td>7</td>\n",
       "      <td>Senior Adult</td>\n",
       "    </tr>\n",
       "    <tr>\n",
       "      <th>2</th>\n",
       "      <td>2021-04-29</td>\n",
       "      <td>z23d9d</td>\n",
       "      <td>1</td>\n",
       "      <td>12</td>\n",
       "      <td>22</td>\n",
       "      <td>2</td>\n",
       "      <td>24</td>\n",
       "      <td>22</td>\n",
       "      <td>9</td>\n",
       "      <td>1</td>\n",
       "      <td>...</td>\n",
       "      <td>NO APLICA</td>\n",
       "      <td>NO</td>\n",
       "      <td>NO APLICA</td>\n",
       "      <td>JALPAN DE SERRA</td>\n",
       "      <td>NO APLICA (CASO SIN MUESTRA)</td>\n",
       "      <td>Alive</td>\n",
       "      <td>1</td>\n",
       "      <td>1</td>\n",
       "      <td>99</td>\n",
       "      <td>Young Adult</td>\n",
       "    </tr>\n",
       "    <tr>\n",
       "      <th>3</th>\n",
       "      <td>2021-04-29</td>\n",
       "      <td>z24953</td>\n",
       "      <td>1</td>\n",
       "      <td>12</td>\n",
       "      <td>9</td>\n",
       "      <td>1</td>\n",
       "      <td>9</td>\n",
       "      <td>9</td>\n",
       "      <td>10</td>\n",
       "      <td>1</td>\n",
       "      <td>...</td>\n",
       "      <td>NO APLICA</td>\n",
       "      <td>NO</td>\n",
       "      <td>SE IGNORA</td>\n",
       "      <td>ÁLVARO OBREGÓN</td>\n",
       "      <td>NO APLICA (CASO SIN MUESTRA)</td>\n",
       "      <td>Alive</td>\n",
       "      <td>10</td>\n",
       "      <td>10</td>\n",
       "      <td>99</td>\n",
       "      <td>Adult</td>\n",
       "    </tr>\n",
       "    <tr>\n",
       "      <th>4</th>\n",
       "      <td>2021-04-29</td>\n",
       "      <td>zz8e77</td>\n",
       "      <td>1</td>\n",
       "      <td>12</td>\n",
       "      <td>9</td>\n",
       "      <td>2</td>\n",
       "      <td>9</td>\n",
       "      <td>9</td>\n",
       "      <td>2</td>\n",
       "      <td>1</td>\n",
       "      <td>...</td>\n",
       "      <td>NO APLICA</td>\n",
       "      <td>NO</td>\n",
       "      <td>NO APLICA</td>\n",
       "      <td>AZCAPOTZALCO</td>\n",
       "      <td>NO APLICA (CASO SIN MUESTRA)</td>\n",
       "      <td>Alive</td>\n",
       "      <td>4</td>\n",
       "      <td>4</td>\n",
       "      <td>99</td>\n",
       "      <td>Adult</td>\n",
       "    </tr>\n",
       "  </tbody>\n",
       "</table>\n",
       "<p>5 rows × 81 columns</p>\n",
       "</div>"
      ],
      "text/plain": [
       "  FECHA_ACTUALIZACION ID_REGISTRO  ORIGEN  SECTOR  ENTIDAD_UM  SEXO  \\\n",
       "0          2021-04-29      z482b8       1      12           9     2   \n",
       "1          2021-04-29      z49a69       1      12          23     1   \n",
       "2          2021-04-29      z23d9d       1      12          22     2   \n",
       "3          2021-04-29      z24953       1      12           9     1   \n",
       "4          2021-04-29      zz8e77       1      12           9     2   \n",
       "\n",
       "   ENTIDAD_NAC  ENTIDAD_RES  MUNICIPIO_RES  TIPO_PACIENTE  ...   UCI_DESC  \\\n",
       "0            9            9             12              1  ...  NO APLICA   \n",
       "1           23           23              4              2  ...        SI    \n",
       "2           24           22              9              1  ...  NO APLICA   \n",
       "3            9            9             10              1  ...  NO APLICA   \n",
       "4            9            9              2              1  ...  NO APLICA   \n",
       "\n",
       "  HIPERTENSION_DESC EMBARAZO_DESC        MUNICIPIO  \\\n",
       "0               NO      NO APLICA          TLALPAN   \n",
       "1               SI            NO   OTHÓN P. BLANCO   \n",
       "2               NO      NO APLICA  JALPAN DE SERRA   \n",
       "3               NO      SE IGNORA   ÁLVARO OBREGÓN   \n",
       "4               NO      NO APLICA     AZCAPOTZALCO   \n",
       "\n",
       "        RESULTADO_ANTIGENO_DESC  Status  MES_ING  MES_SINTOMAS  MES_DEF  \\\n",
       "0  NO APLICA (CASO SIN MUESTRA)   Alive       10            10       99   \n",
       "1  NO APLICA (CASO SIN MUESTRA)    Dead        7             7        7   \n",
       "2  NO APLICA (CASO SIN MUESTRA)   Alive        1             1       99   \n",
       "3  NO APLICA (CASO SIN MUESTRA)   Alive       10            10       99   \n",
       "4  NO APLICA (CASO SIN MUESTRA)   Alive        4             4       99   \n",
       "\n",
       "     EDAD_CLASS  \n",
       "0         Adult  \n",
       "1  Senior Adult  \n",
       "2   Young Adult  \n",
       "3         Adult  \n",
       "4         Adult  \n",
       "\n",
       "[5 rows x 81 columns]"
      ]
     },
     "execution_count": 50,
     "metadata": {},
     "output_type": "execute_result"
    }
   ],
   "source": [
    "data.head()"
   ]
  },
  {
   "cell_type": "code",
   "execution_count": 51,
   "id": "4c35b585",
   "metadata": {},
   "outputs": [],
   "source": [
    "data.loc[(data['CLASIFICACION_FINAL'].isin([1,2,3])),'Lab_Status'] = 'Positive'\n",
    "data.loc[(data['CLASIFICACION_FINAL'].isin([4,5])),'Lab_Status'] = 'Invalid'\n",
    "data.loc[(data['CLASIFICACION_FINAL'].isin([6])),'Lab_Status'] = 'Suspicious'\n",
    "data.loc[(data['CLASIFICACION_FINAL'].isin([7])),'Lab_Status'] = 'Negative'"
   ]
  },
  {
   "cell_type": "code",
   "execution_count": 52,
   "id": "c313af06",
   "metadata": {},
   "outputs": [],
   "source": [
    "data.loc[(data['CLASIFICACION_FINAL'].isin([4,5,6,7])),'Status'] = 'Negative'"
   ]
  },
  {
   "cell_type": "code",
   "execution_count": 53,
   "id": "dd68890e",
   "metadata": {},
   "outputs": [],
   "source": [
    "os.system('rm -r ../Databases/*')\n",
    "data.to_csv(os.path.join(path,'full_covid_dataset.csv'),index=False,encoding='utf-8',line_terminator='\\n')"
   ]
  },
  {
   "cell_type": "code",
   "execution_count": 54,
   "id": "a9b8dc01",
   "metadata": {},
   "outputs": [
    {
     "data": {
      "text/plain": [
       "0"
      ]
     },
     "execution_count": 54,
     "metadata": {},
     "output_type": "execute_result"
    }
   ],
   "source": [
    "os.system('zip ../Databases/full_db.zip ../Databases/full_covid_dataset.csv')"
   ]
  },
  {
   "cell_type": "code",
   "execution_count": 55,
   "id": "80e0d7ba",
   "metadata": {},
   "outputs": [],
   "source": [
    "db = data[(data['CLASIFICACION_FINAL'].isin([1,2,3]))]\n",
    "db = db.drop(columns=['ORIGEN','SECTOR','SEXO','TIPO_PACIENTE','NACIONALIDAD',\n",
    "                          'RESULTADO_LAB','CLASIFICACION_FINAL','ENTIDAD_NAC',\n",
    "                          'ENTIDAD_RES','ENTIDAD_UM','INTUBADO','NEUMONIA',\n",
    "                          'HABLA_LENGUA_INDIG','INDIGENA','DIABETES','EPOC',\n",
    "                          'ASMA','INMUSUPR','OTRA_COM','CARDIOVASCULAR','OBESIDAD',\n",
    "                          'RENAL_CRONICA','TABAQUISMO','OTRO_CASO','TOMA_MUESTRA_LAB',\n",
    "                          'TOMA_MUESTRA_ANTIGENO','MIGRANTE','UCI','HIPERTENSION',\n",
    "                          'MUNICIPIO_RES','EMBARAZO','RESULTADO_ANTIGENO'],axis=1)"
   ]
  },
  {
   "cell_type": "code",
   "execution_count": 56,
   "id": "b2cd7bc8",
   "metadata": {},
   "outputs": [],
   "source": [
    "db.to_csv(os.path.join(path,'mex_covid_daily.csv'),index=False,encoding='utf-8',line_terminator='\\n')"
   ]
  },
  {
   "cell_type": "code",
   "execution_count": 57,
   "id": "a0582857",
   "metadata": {},
   "outputs": [
    {
     "data": {
      "text/plain": [
       "0"
      ]
     },
     "execution_count": 57,
     "metadata": {},
     "output_type": "execute_result"
    }
   ],
   "source": [
    "os.system('zip ../Databases/db.zip ../Databases/mex_covid_daily.csv')\n",
    "os.system('rm -r ../Databases/*.csv')"
   ]
  },
  {
   "cell_type": "code",
   "execution_count": 58,
   "id": "777694e2",
   "metadata": {},
   "outputs": [
    {
     "data": {
      "text/plain": [
       "Index(['FECHA_ACTUALIZACION', 'ID_REGISTRO', 'ORIGEN', 'SECTOR', 'ENTIDAD_UM',\n",
       "       'SEXO', 'ENTIDAD_NAC', 'ENTIDAD_RES', 'MUNICIPIO_RES', 'TIPO_PACIENTE',\n",
       "       'FECHA_INGRESO', 'FECHA_SINTOMAS', 'FECHA_DEF', 'INTUBADO', 'NEUMONIA',\n",
       "       'EDAD', 'NACIONALIDAD', 'EMBARAZO', 'HABLA_LENGUA_INDIG', 'INDIGENA',\n",
       "       'DIABETES', 'EPOC', 'ASMA', 'INMUSUPR', 'HIPERTENSION', 'OTRA_COM',\n",
       "       'CARDIOVASCULAR', 'OBESIDAD', 'RENAL_CRONICA', 'TABAQUISMO',\n",
       "       'OTRO_CASO', 'TOMA_MUESTRA_LAB', 'RESULTADO_LAB',\n",
       "       'TOMA_MUESTRA_ANTIGENO', 'RESULTADO_ANTIGENO', 'CLASIFICACION_FINAL',\n",
       "       'MIGRANTE', 'PAIS_NACIONALIDAD', 'PAIS_ORIGEN', 'UCI', 'ORIGEN_DESC',\n",
       "       'SECTOR_DESC', 'SEXO_DESC', 'TIPO_PACIENTE_DESC', 'NACIONALIDAD_DESC',\n",
       "       'RESULTADO_LAB_DESC', 'CLASIFICACIÓN', 'CLAS_DESC',\n",
       "       'ENTIDAD_FEDERATIVA_NAC', 'ABREVIATURA_NAC', 'ENTIDAD_FEDERATIVA_RES',\n",
       "       'ABREVIATURA_RES', 'ENTIDAD_FEDERATIVA_UM', 'ABREVIATURA_UM',\n",
       "       'INTUBADO_DESC', 'NEUMONIA_DESC', 'HABLA_LENGUA_INDIG_DESC',\n",
       "       'INDIGENA_DESC', 'DIABETES_DESC', 'EPOC_DESC', 'ASMA_DESC',\n",
       "       'INMUSUPR_DESC', 'OTRA_COM_DESC', 'CARDIOVASCULAR_DESC',\n",
       "       'OBESIDAD_DESC', 'RENAL_CRONICA_DESC', 'TABAQUISMO_DESC',\n",
       "       'OTRO_CASO_DESC', 'TOMA_MUESTRA_LAB_DESC', 'TOMA_MUESTRA_ANTIGENO_DESC',\n",
       "       'MIGRANTE_DESC', 'UCI_DESC', 'HIPERTENSION_DESC', 'EMBARAZO_DESC',\n",
       "       'MUNICIPIO', 'RESULTADO_ANTIGENO_DESC', 'Status', 'MES_ING',\n",
       "       'MES_SINTOMAS', 'MES_DEF', 'EDAD_CLASS', 'Lab_Status'],\n",
       "      dtype='object')"
      ]
     },
     "execution_count": 58,
     "metadata": {},
     "output_type": "execute_result"
    }
   ],
   "source": [
    "data.columns"
   ]
  },
  {
   "cell_type": "code",
   "execution_count": 59,
   "id": "b090356d",
   "metadata": {},
   "outputs": [
    {
     "name": "stdout",
     "output_type": "stream",
     "text": [
      "<class 'pandas.core.frame.DataFrame'>\n",
      "RangeIndex: 6612450 entries, 0 to 6612449\n",
      "Data columns (total 82 columns):\n",
      " #   Column                      Dtype         \n",
      "---  ------                      -----         \n",
      " 0   FECHA_ACTUALIZACION         object        \n",
      " 1   ID_REGISTRO                 object        \n",
      " 2   ORIGEN                      int64         \n",
      " 3   SECTOR                      int64         \n",
      " 4   ENTIDAD_UM                  int64         \n",
      " 5   SEXO                        int64         \n",
      " 6   ENTIDAD_NAC                 int64         \n",
      " 7   ENTIDAD_RES                 int64         \n",
      " 8   MUNICIPIO_RES               int64         \n",
      " 9   TIPO_PACIENTE               int64         \n",
      " 10  FECHA_INGRESO               datetime64[ns]\n",
      " 11  FECHA_SINTOMAS              datetime64[ns]\n",
      " 12  FECHA_DEF                   object        \n",
      " 13  INTUBADO                    int64         \n",
      " 14  NEUMONIA                    int64         \n",
      " 15  EDAD                        int64         \n",
      " 16  NACIONALIDAD                int64         \n",
      " 17  EMBARAZO                    int64         \n",
      " 18  HABLA_LENGUA_INDIG          int64         \n",
      " 19  INDIGENA                    int64         \n",
      " 20  DIABETES                    int64         \n",
      " 21  EPOC                        int64         \n",
      " 22  ASMA                        int64         \n",
      " 23  INMUSUPR                    int64         \n",
      " 24  HIPERTENSION                int64         \n",
      " 25  OTRA_COM                    int64         \n",
      " 26  CARDIOVASCULAR              int64         \n",
      " 27  OBESIDAD                    int64         \n",
      " 28  RENAL_CRONICA               int64         \n",
      " 29  TABAQUISMO                  int64         \n",
      " 30  OTRO_CASO                   int64         \n",
      " 31  TOMA_MUESTRA_LAB            int64         \n",
      " 32  RESULTADO_LAB               int64         \n",
      " 33  TOMA_MUESTRA_ANTIGENO       int64         \n",
      " 34  RESULTADO_ANTIGENO          int64         \n",
      " 35  CLASIFICACION_FINAL         int64         \n",
      " 36  MIGRANTE                    int64         \n",
      " 37  PAIS_NACIONALIDAD           object        \n",
      " 38  PAIS_ORIGEN                 object        \n",
      " 39  UCI                         int64         \n",
      " 40  ORIGEN_DESC                 object        \n",
      " 41  SECTOR_DESC                 object        \n",
      " 42  SEXO_DESC                   object        \n",
      " 43  TIPO_PACIENTE_DESC          object        \n",
      " 44  NACIONALIDAD_DESC           object        \n",
      " 45  RESULTADO_LAB_DESC          object        \n",
      " 46  CLASIFICACIÓN               object        \n",
      " 47  CLAS_DESC                   object        \n",
      " 48  ENTIDAD_FEDERATIVA_NAC      object        \n",
      " 49  ABREVIATURA_NAC             object        \n",
      " 50  ENTIDAD_FEDERATIVA_RES      object        \n",
      " 51  ABREVIATURA_RES             object        \n",
      " 52  ENTIDAD_FEDERATIVA_UM       object        \n",
      " 53  ABREVIATURA_UM              object        \n",
      " 54  INTUBADO_DESC               object        \n",
      " 55  NEUMONIA_DESC               object        \n",
      " 56  HABLA_LENGUA_INDIG_DESC     object        \n",
      " 57  INDIGENA_DESC               object        \n",
      " 58  DIABETES_DESC               object        \n",
      " 59  EPOC_DESC                   object        \n",
      " 60  ASMA_DESC                   object        \n",
      " 61  INMUSUPR_DESC               object        \n",
      " 62  OTRA_COM_DESC               object        \n",
      " 63  CARDIOVASCULAR_DESC         object        \n",
      " 64  OBESIDAD_DESC               object        \n",
      " 65  RENAL_CRONICA_DESC          object        \n",
      " 66  TABAQUISMO_DESC             object        \n",
      " 67  OTRO_CASO_DESC              object        \n",
      " 68  TOMA_MUESTRA_LAB_DESC       object        \n",
      " 69  TOMA_MUESTRA_ANTIGENO_DESC  object        \n",
      " 70  MIGRANTE_DESC               object        \n",
      " 71  UCI_DESC                    object        \n",
      " 72  HIPERTENSION_DESC           object        \n",
      " 73  EMBARAZO_DESC               object        \n",
      " 74  MUNICIPIO                   object        \n",
      " 75  RESULTADO_ANTIGENO_DESC     object        \n",
      " 76  Status                      object        \n",
      " 77  MES_ING                     int64         \n",
      " 78  MES_SINTOMAS                int64         \n",
      " 79  MES_DEF                     int64         \n",
      " 80  EDAD_CLASS                  object        \n",
      " 81  Lab_Status                  object        \n",
      "dtypes: datetime64[ns](2), int64(36), object(44)\n",
      "memory usage: 4.0+ GB\n"
     ]
    }
   ],
   "source": [
    "data.info()"
   ]
  },
  {
   "cell_type": "code",
   "execution_count": 60,
   "id": "352bd482",
   "metadata": {},
   "outputs": [
    {
     "data": {
      "text/plain": [
       "array(['Positive', 'Suspicious', 'Negative', 'Invalid'], dtype=object)"
      ]
     },
     "execution_count": 60,
     "metadata": {},
     "output_type": "execute_result"
    }
   ],
   "source": [
    "data['Lab_Status'].unique()"
   ]
  },
  {
   "cell_type": "code",
   "execution_count": null,
   "id": "d9fe5109",
   "metadata": {},
   "outputs": [],
   "source": []
  }
 ],
 "metadata": {
  "kernelspec": {
   "display_name": "Python 3",
   "language": "python",
   "name": "python3"
  },
  "language_info": {
   "codemirror_mode": {
    "name": "ipython",
    "version": 3
   },
   "file_extension": ".py",
   "mimetype": "text/x-python",
   "name": "python",
   "nbconvert_exporter": "python",
   "pygments_lexer": "ipython3",
   "version": "3.8.9"
  }
 },
 "nbformat": 4,
 "nbformat_minor": 5
}
