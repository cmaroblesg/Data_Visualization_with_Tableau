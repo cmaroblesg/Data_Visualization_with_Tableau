{
 "cells": [
  {
   "cell_type": "code",
   "execution_count": 1,
   "metadata": {},
   "outputs": [],
   "source": [
    "from os import path as FileLocation\n",
    "from glob import glob\n",
    "import pandas as pd\n",
    "pd.options.display.float_format = '{:,.2f}'.format"
   ]
  },
  {
   "cell_type": "code",
   "execution_count": 2,
   "metadata": {},
   "outputs": [],
   "source": [
    "path = r'../files'\n",
    "files = glob(FileLocation.join(path,'*.csv'))\n",
    "data = pd.read_csv(files[0],low_memory=False)"
   ]
  },
  {
   "cell_type": "code",
   "execution_count": 3,
   "metadata": {},
   "outputs": [],
   "source": [
    "data['Value'] = data['Value'].str.replace(',','').str.replace('£','').astype(float)\n",
    "data['DonationType'] = data['DonationType'].str.strip()\n",
    "data['AcceptedDate'] = pd.to_datetime(data['AcceptedDate'])\n",
    "data['ReportedDate'] = pd.to_datetime(data['ReportedDate'])\n",
    "data['ReceivedDate'] = pd.to_datetime(data['ReceivedDate'])\n",
    "data['AccountingUnitName'] = data['AccountingUnitName'].fillna(' ')\n",
    "data['DonorName'] = data['DonorName'].fillna('Anonymous')\n",
    "data.loc[(data['DonorName'].isin(['Anonymous'])),'DonorStatus'] = 'Unidentifiable Donor'\n",
    "data.loc[(data['RegulatedDoneeType'].isna()),['RegulatedDoneeType']] = 'Unknown'\n",
    "data.loc[(data['CompanyRegistrationNumber'].isna()),'CompanyRegistrationNumber'] = 'Not company'\n",
    "data.loc[(data['Postcode'].isna()),'Postcode'] = 'Unknown'\n",
    "data.loc[(data['DonationType'].isin(['Cash'])),'NatureOfDonation'] = 'Ready money/cash'\n",
    "data.loc[(data['DonationType'].isin(['Exempt Trust'])) & (data['NatureOfDonation'].isna()),'NatureOfDonation'] = data.loc[(data['DonationType'].isin(['Exempt Trust'])),'NatureOfDonation'].mode()[0]\n",
    "data.loc[(data['DonationType'].isin(['Permissible Donor Exempt Trust'])) & (data['NatureOfDonation'].isna()),'NatureOfDonation'] = data.loc[(data['DonationType'].isin(['Permissible Donor Exempt Trust'])),'NatureOfDonation'].mode()[0]\n",
    "data.loc[(data['DonationType'].isin(['Impermissible Donor'])) & (data['NatureOfDonation'].isna()),'NatureOfDonation'] = data.loc[(data['DonationType'].isin(['Impermissible Donor'])),'NatureOfDonation'].mode()[0]\n",
    "data.loc[(data['DonationType'].isin(['Visit'])) & (data['NatureOfDonation'].isna()),'NatureOfDonation'] = 'Overtake'\n",
    "data.loc[(data['DonationType'].isin(['Unidentified Donor'])) & (data['NatureOfDonation'].isna()),'NatureOfDonation'] = 'Unknown supporter'\n",
    "data.loc[(data['DonationType'].isin(['Total value of donations not reported individually'])) & (data['NatureOfDonation'].isna()),'NatureOfDonation'] = 'Not reported donations'\n",
    "data.loc[(data['PurposeOfVisit'].isna()),'PurposeOfVisit'] = 'Without purpose'\n",
    "data.loc[(data['DonationAction'].isna()),'DonationAction'] = 'Not classified'\n",
    "data.loc[(data['IsReportedPrePoll'].isna()),'IsReportedPrePoll'] = True\n",
    "data['IsReportedPrePoll'] = data['IsReportedPrePoll'].astype(bool)\n",
    "data.loc[(data['AccountingUnitId'].isna()),'AccountingUnitId'] = 'Unknown'\n",
    "data.loc[(data['DonorId'].isna()),'DonorId'] = 'Unknown'\n",
    "data.loc[(data['CampaigningName'].isna()),'CampaigningName'] = 'Unknown'\n",
    "data.loc[(data['IsIrishSource'].isna()),'IsIrishSource'] = False\n",
    "data['IsIrishSource'] = data['IsIrishSource'].astype(bool)\n",
    "data.loc[(data['RegisterName'].isna()),'RegisterName'] = 'DonorName'"
   ]
  },
  {
   "cell_type": "code",
   "execution_count": 4,
   "metadata": {},
   "outputs": [
    {
     "name": "stdout",
     "output_type": "stream",
     "text": [
      "<class 'pandas.core.frame.DataFrame'>\n",
      "RangeIndex: 65278 entries, 0 to 65277\n",
      "Data columns (total 29 columns):\n",
      " #   Column                         Non-Null Count  Dtype         \n",
      "---  ------                         --------------  -----         \n",
      " 0   ECRef                          65278 non-null  object        \n",
      " 1   RegulatedEntityName            65278 non-null  object        \n",
      " 2   RegulatedEntityType            65278 non-null  object        \n",
      " 3   Value                          65278 non-null  float64       \n",
      " 4   AcceptedDate                   64265 non-null  datetime64[ns]\n",
      " 5   AccountingUnitName             65278 non-null  object        \n",
      " 6   DonorName                      65278 non-null  object        \n",
      " 7   AccountingUnitsAsCentralParty  65278 non-null  bool          \n",
      " 8   IsSponsorship                  65278 non-null  bool          \n",
      " 9   DonorStatus                    65278 non-null  object        \n",
      " 10  RegulatedDoneeType             65278 non-null  object        \n",
      " 11  CompanyRegistrationNumber      65278 non-null  object        \n",
      " 12  Postcode                       65278 non-null  object        \n",
      " 13  DonationType                   65278 non-null  object        \n",
      " 14  NatureOfDonation               65278 non-null  object        \n",
      " 15  PurposeOfVisit                 65278 non-null  object        \n",
      " 16  DonationAction                 65278 non-null  object        \n",
      " 17  ReceivedDate                   62515 non-null  datetime64[ns]\n",
      " 18  ReportedDate                   65257 non-null  datetime64[ns]\n",
      " 19  IsReportedPrePoll              65278 non-null  bool          \n",
      " 20  ReportingPeriodName            65278 non-null  object        \n",
      " 21  IsBequest                      65278 non-null  bool          \n",
      " 22  IsAggregation                  65278 non-null  bool          \n",
      " 23  RegulatedEntityId              65278 non-null  int64         \n",
      " 24  AccountingUnitId               65278 non-null  object        \n",
      " 25  DonorId                        65278 non-null  object        \n",
      " 26  CampaigningName                65278 non-null  object        \n",
      " 27  RegisterName                   65278 non-null  object        \n",
      " 28  IsIrishSource                  65278 non-null  bool          \n",
      "dtypes: bool(6), datetime64[ns](3), float64(1), int64(1), object(18)\n",
      "memory usage: 11.8+ MB\n"
     ]
    }
   ],
   "source": [
    "data.info()"
   ]
  },
  {
   "cell_type": "code",
   "execution_count": 5,
   "metadata": {},
   "outputs": [],
   "source": [
    "data.to_csv(FileLocation.join(path,'Processed_'+files[0].split('/')[len(files[0].split('/'))-1].replace(' ','_')),index=False)"
   ]
  }
 ],
 "metadata": {
  "kernelspec": {
   "display_name": "Python 3",
   "language": "python",
   "name": "python3"
  },
  "language_info": {
   "codemirror_mode": {
    "name": "ipython",
    "version": 3
   },
   "file_extension": ".py",
   "mimetype": "text/x-python",
   "name": "python",
   "nbconvert_exporter": "python",
   "pygments_lexer": "ipython3",
   "version": "3.8.5"
  }
 },
 "nbformat": 4,
 "nbformat_minor": 4
}
